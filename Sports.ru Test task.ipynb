{
 "cells": [
  {
   "cell_type": "code",
   "execution_count": 182,
   "metadata": {
    "scrolled": true
   },
   "outputs": [
    {
     "data": {
      "text/plain": [
       "Page total likes                                                         int64\n",
       "Type                                                                    object\n",
       "Category                                                                 int64\n",
       "Post Month                                                               int64\n",
       "Post Weekday                                                             int64\n",
       "Post Hour                                                                int64\n",
       "Paid                                                                   float64\n",
       "Lifetime Post Total Reach                                                int64\n",
       "Lifetime Post Total Impressions                                          int64\n",
       "Lifetime Engaged Users                                                   int64\n",
       "Lifetime Post Consumers                                                  int64\n",
       "Lifetime Post Consumptions                                               int64\n",
       "Lifetime Post Impressions by people who have liked your Page             int64\n",
       "Lifetime Post reach by people who like your Page                         int64\n",
       "Lifetime People who have liked your Page and engaged with your post      int64\n",
       "comment                                                                  int64\n",
       "like                                                                   float64\n",
       "share                                                                  float64\n",
       "Total Interactions                                                       int64\n",
       "dtype: object"
      ]
     },
     "execution_count": 182,
     "metadata": {},
     "output_type": "execute_result"
    }
   ],
   "source": [
    "import pandas as pd\n",
    "import numpy as np\n",
    "## Задача: \n",
    "## 1. расчет среднего, мин-макс, медианы, моды для переменных в данных в целом.\n",
    "## 2. расчет среднего, мин-макс, медианы, моды для переменных в данных в зависимости от уровней переменной Type.\n",
    "## 3. найти самый популярный объект в выборке; объяснить это. \n",
    "\n",
    "# считываем данные с разделителем ';'\n",
    "df = pd.read_csv('dataset_Facebook.csv', sep = \";\")\n",
    "\n",
    "# просматриваем первые 5 строк\n",
    "df.head(5)\n",
    "\n",
    "# посмотрим на типы данных в дата фрейме\n",
    "df.dtypes\n",
    "\n",
    "## Если посмотреть описание данных в оригинальной статье\n",
    "## ('https://www.sciencedirect.com/science/article/abs/pii/S0148296316000813?via%3Dihub'), то\n",
    "## мы имеем 3 категориальных (номинативных) переменных: Type, Category, Paid. \n",
    "## Мы исключим их из расчета показателей для остальных переменных. \n",
    "## Для категориальных переменных мы будем использовать моду и расчет частотных таблиц.  "
   ]
  },
  {
   "cell_type": "code",
   "execution_count": 183,
   "metadata": {},
   "outputs": [],
   "source": [
    "## изменим тип данных на category\n",
    "cat_cols = ['Type', 'Paid', 'Category']\n",
    "for col in cat_cols:\n",
    "    df[col] = df[col].astype('category')"
   ]
  },
  {
   "cell_type": "code",
   "execution_count": 184,
   "metadata": {},
   "outputs": [],
   "source": [
    "from scipy import stats\n",
    "### получим статистику по переменным. медиана является 50 квантилем распределения. \n",
    "summary_stats = df.select_dtypes(exclude = [\"category\"]).describe()\n",
    "### Посчитаем моду. \n",
    "mode_values = df.select_dtypes(exclude = [\"category\"]).agg(stats.mode)"
   ]
  },
  {
   "cell_type": "code",
   "execution_count": 185,
   "metadata": {},
   "outputs": [
    {
     "data": {
      "text/html": [
       "<div>\n",
       "<style scoped>\n",
       "    .dataframe tbody tr th:only-of-type {\n",
       "        vertical-align: middle;\n",
       "    }\n",
       "\n",
       "    .dataframe tbody tr th {\n",
       "        vertical-align: top;\n",
       "    }\n",
       "\n",
       "    .dataframe thead th {\n",
       "        text-align: right;\n",
       "    }\n",
       "</style>\n",
       "<table border=\"1\" class=\"dataframe\">\n",
       "  <thead>\n",
       "    <tr style=\"text-align: right;\">\n",
       "      <th></th>\n",
       "      <th>Type</th>\n",
       "      <th>Category</th>\n",
       "      <th>Paid</th>\n",
       "    </tr>\n",
       "  </thead>\n",
       "  <tbody>\n",
       "    <tr>\n",
       "      <th>count</th>\n",
       "      <td>500</td>\n",
       "      <td>500</td>\n",
       "      <td>499.0</td>\n",
       "    </tr>\n",
       "    <tr>\n",
       "      <th>unique</th>\n",
       "      <td>4</td>\n",
       "      <td>3</td>\n",
       "      <td>2.0</td>\n",
       "    </tr>\n",
       "    <tr>\n",
       "      <th>top</th>\n",
       "      <td>Photo</td>\n",
       "      <td>1</td>\n",
       "      <td>0.0</td>\n",
       "    </tr>\n",
       "    <tr>\n",
       "      <th>freq</th>\n",
       "      <td>426</td>\n",
       "      <td>215</td>\n",
       "      <td>360.0</td>\n",
       "    </tr>\n",
       "  </tbody>\n",
       "</table>\n",
       "</div>"
      ],
      "text/plain": [
       "         Type  Category   Paid\n",
       "count     500       500  499.0\n",
       "unique      4         3    2.0\n",
       "top     Photo         1    0.0\n",
       "freq      426       215  360.0"
      ]
     },
     "execution_count": 185,
     "metadata": {},
     "output_type": "execute_result"
    }
   ],
   "source": [
    "### нахождение моды для категориальных переменных \"Type\", \"Category\" и \"Paid\"\n",
    "df.describe(include=['category'])## наиболее популярны посты с фотографиями; в категории контента наиболее часто встречающийся \n",
    "                                  ## элемент выборки - контент, который был классифицирован как action. \n",
    "                                  ## Большинство постов из выборки не были оплачены. "
   ]
  },
  {
   "cell_type": "code",
   "execution_count": 186,
   "metadata": {},
   "outputs": [
    {
     "name": "stdout",
     "output_type": "stream",
     "text": [
      "Photo     426\n",
      "Status     45\n",
      "Link       22\n",
      "Video       7\n",
      "Name: Type, dtype: int64\n",
      "\n",
      "0.0    360\n",
      "1.0    139\n",
      "Name: Paid, dtype: int64\n",
      "\n",
      "1    215\n",
      "3    155\n",
      "2    130\n",
      "Name: Category, dtype: int64\n",
      "\n"
     ]
    }
   ],
   "source": [
    "### частотные таблицы для категориальных переменных\n",
    "for col in cat_cols:\n",
    "    print(df[col].value_counts(), end= \"\\n\"*2)"
   ]
  },
  {
   "cell_type": "code",
   "execution_count": 187,
   "metadata": {},
   "outputs": [],
   "source": [
    "### статистики в контексте уровней переменной Type.\n",
    "\n",
    "### среднее, мин-макс, медиана\n",
    "type_levels_values = df.drop(['Category', 'Paid'], axis = 1).groupby(\"Type\").agg(['min','max','mean','median'])\n",
    "## мода\n",
    "types_levels_mode_values = df.drop(['Category', 'Paid'], axis = 1).groupby(\"Type\").agg(stats.mode)"
   ]
  },
  {
   "cell_type": "code",
   "execution_count": 188,
   "metadata": {},
   "outputs": [
    {
     "data": {
      "text/html": [
       "<div>\n",
       "<style scoped>\n",
       "    .dataframe tbody tr th:only-of-type {\n",
       "        vertical-align: middle;\n",
       "    }\n",
       "\n",
       "    .dataframe tbody tr th {\n",
       "        vertical-align: top;\n",
       "    }\n",
       "\n",
       "    .dataframe thead th {\n",
       "        text-align: right;\n",
       "    }\n",
       "</style>\n",
       "<table border=\"1\" class=\"dataframe\">\n",
       "  <thead>\n",
       "    <tr style=\"text-align: right;\">\n",
       "      <th></th>\n",
       "      <th>Page total likes</th>\n",
       "      <th>Type</th>\n",
       "      <th>Category</th>\n",
       "      <th>Post Month</th>\n",
       "      <th>Post Weekday</th>\n",
       "      <th>Post Hour</th>\n",
       "      <th>Paid</th>\n",
       "      <th>Lifetime Post Total Reach</th>\n",
       "      <th>Lifetime Post Total Impressions</th>\n",
       "      <th>Lifetime Engaged Users</th>\n",
       "      <th>Lifetime Post Consumers</th>\n",
       "      <th>Lifetime Post Consumptions</th>\n",
       "      <th>Lifetime Post Impressions by people who have liked your Page</th>\n",
       "      <th>Lifetime Post reach by people who like your Page</th>\n",
       "      <th>Lifetime People who have liked your Page and engaged with your post</th>\n",
       "      <th>comment</th>\n",
       "      <th>like</th>\n",
       "      <th>share</th>\n",
       "      <th>Total Interactions</th>\n",
       "    </tr>\n",
       "  </thead>\n",
       "  <tbody>\n",
       "    <tr>\n",
       "      <th>446</th>\n",
       "      <td>96749</td>\n",
       "      <td>Photo</td>\n",
       "      <td>1</td>\n",
       "      <td>3</td>\n",
       "      <td>1</td>\n",
       "      <td>2</td>\n",
       "      <td>1.0</td>\n",
       "      <td>98816</td>\n",
       "      <td>125026</td>\n",
       "      <td>11452</td>\n",
       "      <td>11328</td>\n",
       "      <td>18115</td>\n",
       "      <td>16682</td>\n",
       "      <td>10336</td>\n",
       "      <td>1356</td>\n",
       "      <td>10</td>\n",
       "      <td>197.0</td>\n",
       "      <td>21.0</td>\n",
       "      <td>228</td>\n",
       "    </tr>\n",
       "  </tbody>\n",
       "</table>\n",
       "</div>"
      ],
      "text/plain": [
       "     Page total likes   Type Category  Post Month  Post Weekday  Post Hour  \\\n",
       "446             96749  Photo        1           3             1          2   \n",
       "\n",
       "    Paid  Lifetime Post Total Reach  Lifetime Post Total Impressions  \\\n",
       "446  1.0                      98816                           125026   \n",
       "\n",
       "     Lifetime Engaged Users  Lifetime Post Consumers  \\\n",
       "446                   11452                    11328   \n",
       "\n",
       "     Lifetime Post Consumptions  \\\n",
       "446                       18115   \n",
       "\n",
       "     Lifetime Post Impressions by people who have liked your Page  \\\n",
       "446                                              16682              \n",
       "\n",
       "     Lifetime Post reach by people who like your Page  \\\n",
       "446                                             10336   \n",
       "\n",
       "     Lifetime People who have liked your Page and engaged with your post  \\\n",
       "446                                               1356                     \n",
       "\n",
       "     comment   like  share  Total Interactions  \n",
       "446       10  197.0   21.0                 228  "
      ]
     },
     "execution_count": 188,
     "metadata": {},
     "output_type": "execute_result"
    }
   ],
   "source": [
    "## Наиболее популярный объект в данных.\n",
    "## Можно по-разному оценить популярность действия на Facebook. В оригинальном исследовании \n",
    "## использовалась подсчитанная переменная \"Total Interactions\" в качестве суммы комментариев + лайков + репостов. \n",
    "## Отсортиуем данные и получим необходимое наблюдение. \n",
    "\n",
    "df.sort_values(by = [\"Total Interactions\"], ascending= False)[:1] ## 244 элемент, пост с фото\n",
    "\n",
    "## Подобный подход также использовался в одном из исследований факторов, влияющих на популярность бренда на фейсбуке, исследователи\n",
    "## использовали метрику популярности как сумму лайков и комментариев (http://www.sciencedirect.com/science/article/pii/S0263237314000607).\n",
    "\n",
    "## В качестве альтернативы, мы можем оценить посты через охват аудитории. В таком случае, первое место занимает 244 элемент. \n",
    "\n",
    "df.sort_values(by = [\"Lifetime Post Total Reach\"], ascending= False)[:1] ## 244 элемент\n",
    "\n",
    "## Помимо этого, можно использовать вовлеченность в качестве индикатора популярности. \n",
    "## Вовлеченность влияет на количество показов поста. Уровень вовлеченности отражает количество заинтересованных потребителей, \n",
    "## а высокий уровень вовлеченности означает, что все больше людей комментируют, любят, делятся и упоминают о вашем бренде и его контенте.\n",
    "## На Facebook расчитывается следующим образом: 'Engagement = likes + comments + shares + clicks'. \n",
    "## Когда пользователей кликает по сообщению, просматривает фотографию, смотрит видео или, например, нажимает \"увидеть больше\", то он отмечается как вовлеченный. \n",
    "## Ограничение этой оценки в том, что эти клики могут быть бессмысленными (например, человек кликает на индикатор времени в видео, чтобы его мотать).\n",
    "## Отсортириуем данные. \n",
    "\n",
    "df.sort_values(by = [\"Lifetime Engaged Users\"], ascending= False)[:1] ## 446 элемент, пост с фото\n",
    "\n",
    "## Мы получили пост 446 пост (фото) с наибольшей вовлеченностью. Однако, если взглянуть на его показатели Total Interactions (всего 228), то вероятно, что\n",
    "## что мы столкнулись с той ситуацией, когда были выражены \"бессмысленные клики\". Возможно, это связано с хар-ками самой фотографии:\n",
    "## превью вынуждало кликать на фотографию. \n",
    "\n",
    "## Поэтому на мой взгляд, несмотря на разные подходы к оценки популярности (популярность как совокупность завершенных действий или популярность как потенциальный охват), \n",
    "## можно сказать, что объект номер 244 является самым попурялрным в выборке. \n",
    "\n"
   ]
  }
 ],
 "metadata": {
  "kernelspec": {
   "display_name": "Python 3",
   "language": "python",
   "name": "python3"
  },
  "language_info": {
   "codemirror_mode": {
    "name": "ipython",
    "version": 3
   },
   "file_extension": ".py",
   "mimetype": "text/x-python",
   "name": "python",
   "nbconvert_exporter": "python",
   "pygments_lexer": "ipython3",
   "version": "3.5.5"
  }
 },
 "nbformat": 4,
 "nbformat_minor": 2
}
